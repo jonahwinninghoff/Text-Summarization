{
 "cells": [
  {
   "cell_type": "markdown",
   "id": "eafefa12",
   "metadata": {},
   "source": [
    "<p style=\"color:#e8574d; font-size:30px; font-weight:bold; font-family:Helvetica\"> Content </p>\n",
    "\n",
    "<ul style=\"font-size:16px; font-family:Helvetica\">\n",
    "    <li><a href='#copyright' style=\"color:#696969; text-decoration: none\">Copyright and License</a></li>\n",
    "    <li><a href='#modules' style=\"color:#696969; text-decoration: none\">All Necessary Modules and Datasets</a></li>\n",
    "    <li><a href='#eda' style=\"color:#696969; text-decoration: none\">Exploratory Data Analysis</a></li>\n",
    "    <li><a href='#timer' style=\"color:#696969; text-decoration: none\">Time Complexity: Big Bird and Transformers</a></li>\n",
    "    <li><a href='#cited' style=\"color:#696969; text-decoration: none\">Reference</a></li>\n",
    "</ul> \n",
    "\n"
   ]
  },
  {
   "cell_type": "markdown",
   "id": "5933ff76",
   "metadata": {},
   "source": [
    "<p style=\"color:#e8574d; font-size:20px; font-weight:bold; font-family:Helvetica\">Copyright and License<a id='copyright'></a></p>"
   ]
  },
  {
   "cell_type": "markdown",
   "id": "4c71918c",
   "metadata": {},
   "source": [
    "<p style=\"color:#696969; font-size:14px\">License and copyright notice</p>"
   ]
  },
  {
   "cell_type": "code",
   "execution_count": 1,
   "id": "6953d613",
   "metadata": {},
   "outputs": [
    {
     "name": "stdout",
     "output_type": "stream",
     "text": [
      "Name: bigbird\r\n",
      "Version: 0.0.1\r\n",
      "Summary: Big Bird: Transformers for Long Sequences\r\n",
      "Home-page: http://github.com/google-research/bigbird\r\n",
      "Author: Google Inc.\r\n",
      "Author-email: no-reply@google.com\r\n",
      "License: Apache 2.0\r\n",
      "Location: /opt/anaconda3/lib/python3.8/site-packages\r\n",
      "Requires: absl-py, natsort, numpy, rouge-score, sentencepiece, tensor2tensor, tensorflow, tensorflow-text, tfds-nightly\r\n",
      "Required-by: \r\n"
     ]
    }
   ],
   "source": [
    "!pip show bigbird"
   ]
  },
  {
   "cell_type": "markdown",
   "id": "1a857fc4",
   "metadata": {},
   "source": [
    "<p style=\"color:#696969; font-size:14px; margin:0px; padding:0px\">State changes:</p>\n",
    "<p style='font-family:monospace; margin-left:20px'>Name:</p>"
   ]
  },
  {
   "cell_type": "markdown",
   "id": "6a00540b",
   "metadata": {},
   "source": [
    "<p style=\"color:#e8574d; font-size:20px; font-weight:bold; font-family:Helvetica\">All Necessary Modules and Datasets<a id='module'></a></p>"
   ]
  },
  {
   "cell_type": "code",
   "execution_count": 2,
   "id": "016a1454",
   "metadata": {},
   "outputs": [],
   "source": [
    "# Transformers and BigBird\n",
    "import tensorflow as tf\n",
    "from summarizer import Summarizer,TransformerSummarizer\n",
    "\n",
    "# Reading and manipulate NLP data\n",
    "import math\n",
    "import numpy as np\n",
    "from nltk.corpus import words\n",
    "import pandas as pd\n",
    "from random import sample\n",
    "import re\n",
    "import tensorflow.compat.v2 as tf\n",
    "from tqdm import tqdm\n",
    "\n",
    "# Plot\n",
    "import seaborn as sns\n",
    "from matplotlib import pyplot as plt\n",
    "from statsmodels.distributions.empirical_distribution import ECDF\n",
    "\n",
    "# Evaluate metrics\n",
    "from rouge_score import rouge_scorer\n",
    "import time\n",
    "\n",
    "# Tensorflow dataset\n",
    "import tensorflow_datasets as tfds\n",
    "import tensorflow_text as tft"
   ]
  },
  {
   "cell_type": "code",
   "execution_count": 3,
   "id": "b79b90a4",
   "metadata": {},
   "outputs": [],
   "source": [
    "# Clean text up\n",
    "def clean_up_text(thedict):\n",
    "    for i in range(len(thedict['abstract_text'])):\n",
    "        # Remove all <S> and </S> and double spaces and \", \" in abstract text\n",
    "        thedict['abstract_text'][i] = re.sub(' +', ' ', thedict['abstract_text'][i].replace('<S>','').replace(\n",
    "        '</S>','').replace('\", \"',''))\n",
    "        thedict['article_text'][i] = re.sub(' +', ' ', thedict['article_text'][i].replace(\n",
    "            '\", \"','').replace('[\"',''))\n",
    "    return thedict\n",
    "\n",
    "# Create reading arxiv data for this particular txt problem\n",
    "def read_arxiv_data(directory):\n",
    "    with open(directory) as f: # read lines\n",
    "        lines = f.readlines()\n",
    "    article_id = []            # Instantiate empty lists\n",
    "    article_text = []\n",
    "    abstract_text = []\n",
    "    for i in range(len(lines)): # for loop to find start and end strings\n",
    "        article_id.append(lines[i][lines[i].find('\"article_id\": \"')+len(\n",
    "        '\"article_id\": \"'):lines[i].find('\",')])\n",
    "        article_text.append(lines[i][lines[i].find('\"article_text\": ')+len(\n",
    "        '\"article_text\": '):lines[i].find('\"], ')])\n",
    "        abstract_text.append(lines[i][lines[i].find('\"abstract_text\": [\"<S>')+len(\n",
    "            'abstract_text\": [\"<S>  '):lines[i].find(' </S>\"]')])\n",
    "    thedict = {'article_id':article_id,'article_text':article_text,'abstract_text':abstract_text} \n",
    "    return clean_up_text(thedict) # Use clean up tool "
   ]
  },
  {
   "cell_type": "code",
   "execution_count": 4,
   "id": "3f48485c",
   "metadata": {},
   "outputs": [],
   "source": [
    "# Read validation set\n",
    "result = read_arxiv_data('arxiv-dataset/val.txt')"
   ]
  },
  {
   "cell_type": "markdown",
   "id": "74330477",
   "metadata": {},
   "source": [
    "<p style=\"color:#e8574d; font-size:20px; font-weight:bold; font-family:Helvetica\">Exploratory Data Analysis<a id='eda'></a></p>"
   ]
  },
  {
   "cell_type": "code",
   "execution_count": 5,
   "id": "c4e9a874",
   "metadata": {},
   "outputs": [],
   "source": [
    "np.random.seed(121)\n",
    "r = int(np.random.choice(range(len(result['article_id'])), size=1))"
   ]
  },
  {
   "cell_type": "code",
   "execution_count": 6,
   "id": "3abb9583",
   "metadata": {},
   "outputs": [
    {
     "name": "stdout",
     "output_type": "stream",
     "text": [
      "1011.3627\n"
     ]
    }
   ],
   "source": [
    "print(result['article_id'][r])"
   ]
  },
  {
   "cell_type": "code",
   "execution_count": 7,
   "id": "c2bf471f",
   "metadata": {},
   "outputs": [
    {
     "name": "stdout",
     "output_type": "stream",
     "text": [
      "we report results of fully non - perturbative calculations , based on auxiliary field quantum monte carlo ( afqmc ) approach , for the dilute neutron matter at the density @xmath0 . fundamental quantities which characterize the superfluid state : the single particle energy gap @xmath1 , and the critical temperature @xmath2 have been determined . the large value of @xmath3 indicates that the system is not a bcs - type superfluid at low temperatures .\n"
     ]
    }
   ],
   "source": [
    "print(result['abstract_text'][r])"
   ]
  },
  {
   "cell_type": "code",
   "execution_count": 8,
   "id": "06611afb",
   "metadata": {
    "scrolled": true
   },
   "outputs": [
    {
     "name": "stdout",
     "output_type": "stream",
     "text": [
      "although a homogeneous neutron matter is one of the simplest nuclear systems , its importance can not be overemphasized since it constitutes the main component of neutron stars .the density of the neutron matter forming neutron stars ranges from subnuclear densities ( in the inner crust ) up to extremely high values of @xmath4 ( expected in the center of the star ) , where @xmath5 is the saturation density@xcite . in the regime of sufficiently low densitiesone can perform very precise calculations since the neutron - neutron interaction is completely dominated by the scattering in @xmath6 channel , which is determined by two parameters only : the scattering length @xmath7 and the effective range @xmath8 .indeed , at the densities @xmath9 ( @xmath10 ) the influence of other channels as well as of three - body forces is marginal and can be neglected@xcite .the values of the scattering length and the effective range are well known from the low energy scattering experiments and read : @xmath11 , @xmath12@xcite . at the densities where @xmath13 the dilute neutron matter is an example of a strongly correlated system . moreover ,the influence of the effective range can not be ignored except for very low densities where @xmath14@xcite .it implies that only non - perturbative approaches are able to gain a reliable insight into physics of this system . the large class of such methods , which are known under the general name of quantum monte carlo ( qmc ) , has been applied for the dilute neutron matter@xcite . in spite of a considerable theoretical effort some of its static propertiesare still vaguely known .the open questions mostly concern the superfluid state , which is generated at sufficiently low temperatures .for example the predicted value of the zero temperature energy gap differs significantly for various approaches , revealing a strong dependence on the details of the applied method ( see@xcite and references therein ) .the same concerns the critical temperature of the superfluid - normal phase transition , where the well known bcs formula @xmath15 is believed to be valid . herewe present the selected results concerning the superfluid state , obtained within the afqmc approach at non - zero temperatures@xcite for the dilute neutron matter of density @xmath16 ( @xmath17 ) .this study can be regarded as a continuation of the investigations presented in the papers @xcite , where the details of the afqmc algorithm and the procedure of adjusting the interaction , have been discussed . in the present study we focused on two basic quantities which characterize a superfluid state : the critical temperature and the pairing gap .in the case of superfluidity the convenient order parameter is specified by the long - distance behavior of the two - body density matrix @xmath18 where the field operators @xmath19 and @xmath20 obey the fermionic anticommutation relations .such a long - distance behavior is directly related to the condensate fraction @xmath21 , which measure the fraction of cooper pairs forming a condensate@xcite .this quantity can be efficiently computed within afqmc , provided the information concerning the one - body density matrix @xmath22 is also included .the condensate fraction is given by:@xcite @xmath23 where @xmath24 stands for the number of particles and the correlation functions @xmath25 are defined as : @xmath26 as a function of temperature ( in units of fermi energy @xmath27 ) for three lattice sizes @xmath28 .the inset presents the rescaled condensate fraction obtained for lattices @xmath29 ( squares ) and @xmath30 ( circles ) .the intersection of the fitted lines determines the critical temperature of the superfluid - normal phase transition , @xmath31 . ]the figure [ fig : nm_alpha ] presents the condensate fraction versus the temperature for three different lattice sizes @xmath28 .it is clearly visible that the results for @xmath32 significantly deviate from those obtained for larger lattices .it is due to the fact that for small lattices the limiting value of @xmath33 is rather poorly determined . indeed , the infinity in this case is equal to the half of the box size and is only a few times larger than the interaction range .consequently , it will generate a large systematic error when the lattice is too small .the presented results indicate that this is exactly the case for @xmath32 and therefore these data were not included in the process of determination of the critical temperature . in the thermodynamic limitthe condensate fraction has to vanish at the critical temperature @xmath2 .however , in the case of calculations in the box the finite size effects come into play and smooth out all singularities typical for the phase transition .still , one can estimate the critical temperature using the method based on the finite size scaling .similar technique has been used to determine the critical temperature for cold atomic gases ( see@xcite for details ) .the volume - dependent estimation of the critical temperature @xmath34 is obtained by finding the intersection of the rescaled condensate fraction @xmath35 for two different lattice sizes @xmath36 , where @xmath37 is the universal critical exponent and @xmath38 is the volume of the box . as @xmath39the thermodynamic limit is recovered and the series @xmath34 converges to the critical temperature . to extract @xmath2we have used two largest of the available lattices , namely @xmath40 .the filling factor in both cases reads : @xmath41 . according to our experience ,the above methodology is sufficient to estimate the critical temperature with an uncertainty smaller than @xmath42 ( in fact this procedure applied to the unitary gas provides the value of @xmath2 with the relative error smaller than @xmath43 ) .finally , the estimated value of the critical temperature reads @xmath44 ( @xmath45 ) , where @xmath27 is the fermi energy ( see the inset of fig . [fig : nm_alpha ] ) .in order to determine the gap in the single particle spectrum , we have computed the spectral weight function @xmath46 . this quantity has been extracted from the imaginary time propagator @xmath47 through the analytic continuation@xcite .the procedure is equivalent to solving the integral equation : @xmath48 where @xmath49 denotes the inverse of the temperature and @xmath50 is determined from the monte carlo calculations for the discrete set of values @xmath51 .numerically , however , the above integral equation represents an ill - posed problem i.e. there is an infinite class of solutions for @xmath46 which satisfy eq .( [ eqn : ap ] ) within uncertainties generated by monte carlo method .therefore we have used two methods which were in particular designed to deal with such tasks : the truncated svd method and the maximum entropy method@xcite .for the dilute neutron matter at selected temperatures : a ) @xmath52 , b ) @xmath53 , c ) @xmath54 , d ) @xmath55 .the nonzero energy gap is present up to the critical temperature @xmath31 . ]the spectral functions for selected temperatures ( below and above @xmath2 ) are presented in fig .[ fig : nm_spectral ] .our results admit the gapped solutions up to the critical temperature and above @xmath2 the gap vanishes .one has to remember , however , that there is a finite resolution of both methods concerning the value of the gap .namely , the gap can not be resolved if its value decreases below @xmath56 .the value of the energy gap @xmath57 extracted from the spectral function at the temperature @xmath58 is expected to provide a good approximation of its value at zero temperature .it reads : @xmath59 . .] in fig .[ fig : gap_comparison ] our results are compared to those obtained by other authors within _ab initio _calculations for zero temperature .we have found our results in agreement with the recent green function monte carlo calculations of gezerlis and carlson@xcite .the calculations including other scattering channels together with the three body forces were performed by gandolfi _et al.,_@xcite and predict larger paring gap . however , it is difficult to establish the source of this discrepancy since their method ( auxiliary field diffusion monte carlo ) has been constrained in order to avoid the fermionic sign problem and therefore can be regarded as a variational approach. an interesting result can be noticed by considering the ratio of the energy gap at zero temperature to the critical temperature .namely , the ratio @xmath60 exceeds almost twice the well - known bcs value @xmath61 .a similar situation has been encountered for the unitary gas , where the existence of the exotic `` pseudogap '' phase above @xmath2 was recently reported@xcite .it indicates that the dilute neutron matter at this density is not a bcs - type superfluid .we have performed the fully non - perturbative calculations for the dilute neutron matter of density @xmath62 at finite temperatures .we focused on the basic quantities which characterize the superfluid state and extracted the value of the critical temperature and the pairing gap .our results are free from uncontrolled approximations and are essentially exact with only uncertainties related to statistical errors and finite size effects .the large value of @xmath60 suggests that the dilute neutron gas can not be described by the bcs theory and thus is not a bcs superfluid at low temperatures .support from the polish ministry of science under contracts no .n n202 328234 , n n202 128439 and by the unedf scidac collaboration under doe grant de - fc02 - 07er41457 is gratefully acknowledged .calculations reported here have been performed at the interdisciplinary centre for mathematical and computational modelling ( icm ) at warsaw university .muller , s.e .koonin , r. seki and u. vankolck , _ phys .rev . _ * c61 * , 044320 ( 2000 ) ; s. fantoni , a. sarsa , and k.e .schmidt , _ phys .lett . _ * 87 * , 181101 ( 2001 ) ; j. morales , v.r .pandharipande , and d.g .ravenhall , _ phys ._ * c66 * , 054308 ( 2002 ) ; l. brualla , s. fantoni , a. sarsa , k.e . schmidt and s.avitiello , _ phys ._ * c67 * , 065806 ( 2003 ) ; a. sarsa , s. fantoni , k.e .schmidt and f. pederiva , _ phys ._ * c68 * , 024308 ( 2003 ) ; j. carlson , j. morales , v.r .pandharipande and d.g .ravenhall , _ phys .rev . _ * c68 * , 025802 ( 2003 ) ; s.y . chang , _et al.,__nucl .. _ * a746 * , 215 ( 2004 ) ; d. lee , b. borasoy , and t. schaefer _ phys . rev . _ * c70 * , 014007 ( 2004 ) ; a. fabrocini , s. fantoni , a.y .illarionov and k.e .schmidt , _ phys .lett . _ * 95 * , 192501 ( 2005 ) ; d. lee , t. schfer , _ phys ._ * c72 * , 024006 ( 2005 ) ; _ phys .rev . _ * c73 * , 015201 ( 2006 ) ; _ phys .rev . _ * c73 * , 015202 ( 2006 ) ; e. epelbaum , _ et al.,__eur. phys . j. _ * a40 * , 199 ( 2009 ) ; t. abe and r. seki , _ phys . rev . _ * c79 * , 054002 ( 2009 ) . a.a .abrikosov , _ et al.,__methods of quantum field theory in statistical physics _( dover , new york , 1975 ) ; a.l .fetter , and j.d .walecka , _ quantum theory of many - particle systems _ , ( dover , new york , 2003 ) .m. bertero , c. de mol , e.r .pike , _ inverse problems _ * 1 * , 301 ( 1985 ) ; _ inverse problems _ * 4 * , 573 ( 1988 ) ; c.e .creffield , e.g. klepfish , e.r .pike and s. sarkar , _ phys ._ * 75 * , 517 ( 1995 ) ; g.d .de villiers , b. mcnally , e.r .pike , _ inverse problems _ * 15 * , 615 ( 1999 ) .jaynes , in _ the maximum entropy formalism _ , edited by r.d .levine and m. tribus ( mit press , cambridge , 1978 ) , pp .15 - 118 ; r.n .silver , d.s .sivia , j.e .gubernatis , _ phys . rev . _ * b41 * , 2380 ( 1990 ) ; r.n .silver , j.e .gubernatis , d.s .sivia and m. jarrell , _ phys ._ * 65 * , 496 ( 1990 ) ; s.r .white , _ phys ._ * b44 * , 4670 ( 1991 ) .\n"
     ]
    }
   ],
   "source": [
    "print(result['article_text'][r])"
   ]
  },
  {
   "cell_type": "code",
   "execution_count": 9,
   "id": "1d2efbb9",
   "metadata": {},
   "outputs": [],
   "source": [
    "# Create the Standard Scaler for dictionary\n",
    "def z_score(thedict):\n",
    "    if type(thedict) == type({}): # If dict type\n",
    "        adict = thedict.copy()\n",
    "        thedict = list(thedict.values())\n",
    "    else:\n",
    "        adict = None\n",
    "    u = np.mean(thedict)\n",
    "    s = np.std(thedict)\n",
    "    x = thedict\n",
    "    Z = (x - u)/s\n",
    "    if type(adict) == type({}): # If dict type\n",
    "        # Instantiate i\n",
    "        i = 0\n",
    "        for k in adict.keys():\n",
    "            adict[k] = Z[i]\n",
    "            i+=1 \n",
    "        return adict\n",
    "    else:             # If not dict type\n",
    "        return Z"
   ]
  },
  {
   "cell_type": "code",
   "execution_count": 10,
   "id": "23862f6a",
   "metadata": {},
   "outputs": [],
   "source": [
    "# Check for abstract text sampling convergence\n",
    "convergence = {}\n",
    "for i in range(10,3000):\n",
    "    sampling = sample(result['abstract_text'],i)\n",
    "    convergence[i] = sum(map(len, sampling))/float(len(sampling))\n",
    "convergence = z_score(convergence)\n",
    "# Check for article text sampling convergence\n",
    "convergence1 = {}\n",
    "for i in range(10,3000):\n",
    "    sampling = sample(result['article_text'],i)\n",
    "    convergence1[i] = sum(map(len, sampling))/float(len(sampling))\n",
    "convergence1 = z_score(convergence1)"
   ]
  },
  {
   "cell_type": "code",
   "execution_count": 11,
   "id": "8a8c8d0f",
   "metadata": {
    "scrolled": false
   },
   "outputs": [
    {
     "data": {
      "image/png": "[encoded data removed]",
      "text/plain": [
       "<Figure size 1080x720 with 1 Axes>"
      ]
     },
     "metadata": {},
     "output_type": "display_data"
    }
   ],
   "source": [
    "plt.style.use('fivethirtyeight')\n",
    "plt.figure(figsize = (15,10))\n",
    "plt.plot(convergence.keys(),convergence.values(),alpha=0.5,label = 'abstract')\n",
    "plt.plot(convergence1.keys(),convergence1.values(),alpha=0.5, label = 'article')\n",
    "plt.xlabel('Sampling size')\n",
    "plt.ylabel('Mean number of characters with spaces in text (in z-score)')\n",
    "plt.title('Convergence')\n",
    "plt.legend()\n",
    "plt.show()"
   ]
  },
  {
   "cell_type": "code",
   "execution_count": 12,
   "id": "d27fc4df",
   "metadata": {},
   "outputs": [],
   "source": [
    "# Select 1500 sampling size\n",
    "sampling = sample(result['abstract_text'],1500)\n",
    "sampling1 = sample(result['article_text'],1500)"
   ]
  },
  {
   "cell_type": "code",
   "execution_count": 13,
   "id": "c5eba58f",
   "metadata": {},
   "outputs": [
    {
     "data": {
      "image/png": "[encoded data removed]",
      "text/plain": [
       "<Figure size 1080x504 with 2 Axes>"
      ]
     },
     "metadata": {},
     "output_type": "display_data"
    }
   ],
   "source": [
    "ecdf = ECDF(list(map(len,sampling)))\n",
    "ecdf1 = ECDF(list(map(len,sampling1)))\n",
    "\n",
    "# plot the ecdf\n",
    "fig, ax = plt.subplots(1,2,figsize = (15,7))\n",
    "ax[0].plot(ecdf.x, ecdf.y, label = 'abstract text')\n",
    "ax[1].plot(ecdf1.x, ecdf1.y, color = 'red', label = 'article text')\n",
    "fig.suptitle('Empirical Cumulative Distribution Function')\n",
    "fig.text(0.5, 0.00, 'Number of characters with space in text', ha='center')\n",
    "fig.legend()\n",
    "plt.show()"
   ]
  },
  {
   "cell_type": "code",
   "execution_count": 14,
   "id": "cf5f109c",
   "metadata": {},
   "outputs": [],
   "source": [
    "def str_info(thelist):\n",
    "    print('length of text')\n",
    "    print('mean:', round(sum(map(len,thelist))/len(thelist),2))\n",
    "    print('median:', round(np.median(list(map(len,thelist))),2))\n",
    "    print('stdev:', round(np.std(list(map(len,thelist))),2))\n",
    "    print('0.975:', round(np.quantile(list(map(len,thelist)),0.975),2))\n",
    "    print('0.025:', round(np.quantile(list(map(len,thelist)),0.025),2))"
   ]
  },
  {
   "cell_type": "code",
   "execution_count": 15,
   "id": "76dd7dff",
   "metadata": {},
   "outputs": [
    {
     "name": "stdout",
     "output_type": "stream",
     "text": [
      "length of text\n",
      "mean: 943.48\n",
      "median: 923.0\n",
      "stdev: 341.39\n",
      "0.975: 1586.52\n",
      "0.025: 349.95\n"
     ]
    }
   ],
   "source": [
    "str_info(sampling)"
   ]
  },
  {
   "cell_type": "code",
   "execution_count": 16,
   "id": "a9ce6c5a",
   "metadata": {},
   "outputs": [
    {
     "name": "stdout",
     "output_type": "stream",
     "text": [
      "length of text\n",
      "mean: 31990.08\n",
      "median: 26911.5\n",
      "stdev: 21120.43\n",
      "0.975: 86479.77\n",
      "0.025: 5938.5\n"
     ]
    }
   ],
   "source": [
    "str_info(sample(result['article_text'],1500))"
   ]
  },
  {
   "cell_type": "code",
   "execution_count": 17,
   "id": "9ff0cc6a",
   "metadata": {},
   "outputs": [],
   "source": [
    "def english_match(alist):\n",
    "    thelist = [] # instantiate list\n",
    "    for i in range(len(alist)):  # tokenize\n",
    "        thelist.extend(alist[i].split())\n",
    "    # Apply numpy for more efficiency and check if tokenizer matches dictionary\n",
    "    # and set the benchmark for english percentage\n",
    "    return str(round(100*np.mean(np.isin(np.array(thelist),\n",
    "           np.array(words.words())).astype(int)),2))+'%'"
   ]
  },
  {
   "cell_type": "code",
   "execution_count": 18,
   "id": "8843bc62",
   "metadata": {},
   "outputs": [
    {
     "name": "stdout",
     "output_type": "stream",
     "text": [
      "The percentage of abstract texts that matches NLTK dictionaries: 70.8%\n",
      "The percentage of article texts that matches NLTK dictionaries: 62.05%\n"
     ]
    }
   ],
   "source": [
    "print('The percentage of abstract texts that matches NLTK dictionaries:',\n",
    "      english_match(sample(result['abstract_text'],1500)))\n",
    "print('The percentage of article texts that matches NLTK dictionaries:',\n",
    "      english_match(sample(result['article_text'],100)))"
   ]
  },
  {
   "cell_type": "markdown",
   "id": "b0a3c289",
   "metadata": {},
   "source": [
    "<p style=\"color:#e8574d; font-size:20px; font-weight:bold; font-family:Helvetica\">Review on Transformers and Big Bird under the Hood<a id='hood'></a></p>"
   ]
  },
  {
   "cell_type": "markdown",
   "id": "cc94da7c",
   "metadata": {},
   "source": [
    "<p style=\"color:#696969; font-size:14px\">Transformers</p>"
   ]
  },
  {
   "cell_type": "markdown",
   "id": "aa51a55d",
   "metadata": {},
   "source": [
    "<img src='https://github.com/jonahwinninghoff/Text-Summarization/raw/main/Images/Transformers%20Architecture.png'/>"
   ]
  },
  {
   "cell_type": "markdown",
   "id": "6328e16e",
   "metadata": {},
   "source": [
    "<p style=\"color:#696969; font-size:14px; text-align: justify\">The left side of transfomers is encoder and another side decoder. Both encoder and decoder absorb information from word embeddings processed by word2vec. The difference is that the representation of encoder is X while the representation of decoder is Z (Vaswani et al., 2017). For this analysis, the representation of encoder is word embedding of <i>article_text</i> that of decoder word embedding of <i>abstract_text</i>.</p>"
   ]
  },
  {
   "cell_type": "markdown",
   "id": "415db4fe",
   "metadata": {},
   "source": [
    "<img src='https://github.com/jonahwinninghoff/Text-Summarization/blob/main/Images/Attention-formula.png?raw=true'/>"
   ]
  },
  {
   "cell_type": "markdown",
   "id": "07e535c8",
   "metadata": {},
   "source": [
    "<p style=\"color:#696969; font-size:14px;text-align: justify\">The self attention is also known as scaled dot-product attention, which is associated with multi-head attention. The K represents of keys while the V represents values. The Q is a matrix of a set of queries. The query refers to particular word that has has posed (i.e., \"You\") while the key refer to next word (i.e., \"have\"). The d<sub>k</sub> is the key dimensionality. The softmax is a generalization of logistic function.</p>"
   ]
  },
  {
   "cell_type": "markdown",
   "id": "e49f55c0",
   "metadata": {},
   "source": [
    "<img src='https://github.com/jonahwinninghoff/Text-Summarization/blob/main/Images/head_i.png?raw=true'/>"
   ]
  },
  {
   "cell_type": "markdown",
   "id": "39f49cc9",
   "metadata": {},
   "source": [
    "<p style=\"color:#696969; font-size:14px\">The head<sub>i</sub> is with a vector of Q, K, and V matrically multiplied by a vector of weights</p>"
   ]
  },
  {
   "cell_type": "markdown",
   "id": "372c4ec7",
   "metadata": {},
   "source": [
    "<img src = 'https://github.com/jonahwinninghoff/Text-Summarization/blob/main/Images/multi-head-attention.png?raw=true'/>"
   ]
  },
  {
   "cell_type": "markdown",
   "id": "c143893b",
   "metadata": {},
   "source": [
    "<p style=\"color:#696969; font-size:14px\">The multi-head attention is a concatenation of head_i multiplied by a weight (Vaswani et al., 2017).</p>"
   ]
  },
  {
   "cell_type": "markdown",
   "id": "f9a59736",
   "metadata": {},
   "source": [
    "<p style=\"color:#696969; font-size:14px\">Big Bird</p>"
   ]
  },
  {
   "cell_type": "markdown",
   "id": "8385301e",
   "metadata": {},
   "source": [
    "<p style=\"color:#696969; font-size:14px;text-align: justify\">The Big Bird algorithm is almost identical to transformers but what is changed in this algorithm is that block sparse attention is in use. The objective in this algorithm is to ensure that algorithm is more efficient using three different connections instead of normal attention that relies on full connection. These connections are global, sliding, and random. For example:</p>"
   ]
  },
  {
   "cell_type": "markdown",
   "id": "f24910dd",
   "metadata": {},
   "source": [
    "<img src = 'https://github.com/jonahwinninghoff/Text-Summarization/blob/main/Images/Block%20Sparse.png?raw=true' />"
   ]
  },
  {
   "cell_type": "markdown",
   "id": "164d771d",
   "metadata": {},
   "source": [
    "<img src = 'https://github.com/jonahwinninghoff/Text-Summarization/blob/main/Images/Compare%20attentions.png?raw=true' />"
   ]
  },
  {
   "cell_type": "markdown",
   "id": "1d128ba6",
   "metadata": {},
   "source": [
    "<img src='https://github.com/jonahwinninghoff/Text-Summarization/blob/main/Images/bird%20view.png?raw=true'/>"
   ]
  },
  {
   "cell_type": "markdown",
   "id": "b714c070",
   "metadata": {},
   "source": [
    "<p style=\"color:#696969; font-size:14px\">(Gupta, 2021)</p>"
   ]
  },
  {
   "cell_type": "markdown",
   "id": "c71530ca",
   "metadata": {},
   "source": [
    "<p style=\"color:#696969; font-size:14px;text-align: justify\">Both figures are pretty self-explained. However, the Big Bird creators claim that this algorithm is linear dependence for sequence. This is why this analysis is to evaluate to determine if this claim is true.</p>"
   ]
  },
  {
   "cell_type": "markdown",
   "id": "8b19e46b",
   "metadata": {},
   "source": [
    "<p style=\"color:#e8574d; font-size:20px; font-weight:bold; font-family:Helvetica\">Time Complexity: Big Bird and Transformers<a id='timer'></a></p>"
   ]
  },
  {
   "cell_type": "code",
   "execution_count": 19,
   "id": "aad8d2ec",
   "metadata": {},
   "outputs": [],
   "source": [
    "# Create new column for word counts\n",
    "result['abstract word counts'] = [len(result['abstract_text'][0].split())]\n",
    "for i in range(1,len(result['article_id'])):\n",
    "    result['abstract word counts'].append(len(result['abstract_text'][i].split()))"
   ]
  },
  {
   "cell_type": "code",
   "execution_count": 20,
   "id": "736b6d08",
   "metadata": {},
   "outputs": [],
   "source": [
    "# Develop complete assessment on Transformer text summarization\n",
    "def assess_transf(data,size_of_sampling = 100, seed = 0, warning = False):\n",
    "    thelist = {} # Instantiate the list in dict form\n",
    "    \n",
    "    # Instantiate the Transformer Summarizer and rouge scorer\n",
    "    model = TransformerSummarizer(transformer_type=\"XLNet\",transformer_model_key=\"xlnet-base-cased\")\n",
    "    scorer = rouge_scorer.RougeScorer(['rouge1','rouge2','rougeL'], use_stemmer=True)\n",
    "    \n",
    "    # Set seed and use size_of_sampling for tuning\n",
    "    np.random.seed(seed)\n",
    "    r = np.random.choice(range(len(data['article_id'])), size = size_of_sampling, replace = False)\n",
    "    \n",
    "    # Instantiate all variables for dict append\n",
    "    thelist['article_id'] = []\n",
    "    thelist['article_text'] = []\n",
    "    thelist['abstract_text'] = []\n",
    "    thelist['article word counts'] = []\n",
    "    thelist['abstract word counts'] = []\n",
    "    thelist['predicted summary'] = []\n",
    "    thelist['predicted summary word counts'] = []\n",
    "    thelist['time in seconds'] = []\n",
    "    thelist['rouge1'] = []\n",
    "    thelist['rouge2'] = []\n",
    "    thelist['rougeL'] = []\n",
    "    \n",
    "    # for loop based on size_of_sampling\n",
    "    for i in range(size_of_sampling):\n",
    "        # Get data\n",
    "        thelist['article_id'].append(data['article_id'][r[i]])\n",
    "        thelist['article_text'].append(data['article_text'][r[i]])\n",
    "        thelist['article word counts'].append(len(data['article_text'][r[i]].split()))\n",
    "        thelist['abstract_text'].append(data['abstract_text'][r[i]])\n",
    "        thelist['abstract word counts'].append(data['abstract word counts'][r[i]])\n",
    "        \n",
    "        # Predict summaries with start timer\n",
    "        start = time.time()\n",
    "        auto = ''.join(model(data['article_text'][r[i]], \n",
    "                             max_length=data['abstract word counts'][r[i]]+20))\n",
    "        thelist['predicted summary'].append(auto)\n",
    "        thelist['time in seconds'].append(time.time()-start)\n",
    "        thelist['predicted summary word counts'].append(len(auto.split()))\n",
    "        \n",
    "        # Create score for each summary using rouge as a set of metrics\n",
    "        scores = scorer.score(data['abstract_text'][r[i]],auto)\n",
    "        thelist['rouge1'].append(scores['rouge1'][2])\n",
    "        thelist['rouge2'].append(scores['rouge2'][2])\n",
    "        thelist['rougeL'].append(scores['rougeL'][2])\n",
    "    \n",
    "    return pd.DataFrame(thelist)"
   ]
  },
  {
   "cell_type": "code",
   "execution_count": 21,
   "id": "51416432",
   "metadata": {},
   "outputs": [],
   "source": [
    "# Develop complete assessment on Transformer text summarization\n",
    "def assess_bigbir(dict_data,size_of_sampling = 1, seed = 0, warning = False):\n",
    "    tf.enable_v2_behavior()\n",
    "    \n",
    "    # Instantiate the list\n",
    "    thelist = {}\n",
    "    \n",
    "    # Check if dict data type\n",
    "    if type(dict_data) == type({}):\n",
    "        # Count words in each article text\n",
    "        dict_data['article word counts'] = [len(dict_data['article_text'][0].split())]\n",
    "        for i in range(1,len(result['article_id'])):\n",
    "            dict_data['article word counts'].append(len(dict_data['article_text'][i].split()))\n",
    "            \n",
    "        # Form this data into pandas dataframe\n",
    "        df = pd.DataFrame(dict_data)\n",
    "        \n",
    "        # Set seed and use size_of_sampling for tuning and randomly sample some of data\n",
    "        np.random.seed(seed)\n",
    "        r = np.random.choice(range(len(dict_data['article_id'])), size = size_of_sampling, replace = False)\n",
    "        df = df.iloc[r,:]\n",
    "        df.reset_index(drop=True, inplace=True) # Reset index\n",
    "        \n",
    "        # Random sampling on pandas and form another data called TensorSliceDataset using smaller data\n",
    "        dataset = tf.data.Dataset.from_tensor_slices(df[['article_id','article_text','abstract_text']])\n",
    "\n",
    "        # Instantiate the Big Bird Summarizer and rouge scorer\n",
    "        import warnings\n",
    "        warnings.filterwarnings('ignore')\n",
    "\n",
    "        path = 'gs://bigbird-transformer/summarization/pubmed/roberta/saved_model'\n",
    "        imported_model = tf.saved_model.load(path, tags='serve')\n",
    "        summarize = imported_model.signatures['serving_default']\n",
    "        scorer = rouge_scorer.RougeScorer(['rouge1','rouge2','rougeL'], use_stemmer=True)\n",
    "        \n",
    "        # Instantiate all variables for dict append\n",
    "        thelist['predicted summary'] = []\n",
    "        thelist['predicted summary word counts'] = []\n",
    "        thelist['time in seconds'] = []\n",
    "        thelist['rouge1'] = []\n",
    "        thelist['rouge2'] = []\n",
    "        thelist['rougeL'] = []\n",
    "        \n",
    "        ## for loop based on size_of_sampling \n",
    "        for ex in tqdm(dataset.take(size_of_sampling), position=0):\n",
    "            start = time.time() # timer\n",
    "            predicted_summary = summarize(ex[2])['pred_sent'][0] # prediction\n",
    "            thelist['time in seconds'].append(time.time()-start) # end timer\n",
    "            score = scorer.score(ex[2].numpy().decode('utf-8'), predicted_summary.numpy().decode('utf-8')) # scores\n",
    "            thelist['predicted summary'].append(predicted_summary.numpy().decode('utf-8')) # summary\n",
    "            thelist['predicted summary word counts']= len(predicted_summary.numpy().decode('utf-8').split()) # counts\n",
    "            thelist['rouge1'].append(score['rouge1'][2]) # rouge1\n",
    "            thelist['rouge2'].append(score['rouge2'][2]) # rouge2\n",
    "            thelist['rougeL'].append(score['rougeL'][2]) # rougeL\n",
    "            \n",
    "        return pd.concat([df, pd.DataFrame(thelist)],axis=1)\n",
    "        \n",
    "    else:\n",
    "        print('Please use dictionary data type.')"
   ]
  },
  {
   "cell_type": "code",
   "execution_count": 22,
   "id": "5d182a62",
   "metadata": {
    "scrolled": false
   },
   "outputs": [
    {
     "name": "stdout",
     "output_type": "stream",
     "text": [
      "WARNING:tensorflow:Unable to create a python object for variable <tf.Variable 'bert/embeddings/word_embeddings:0' shape=(50358, 768) dtype=float32_ref> because it is a reference variable. It may not be visible to training APIs. If this is a problem, consider rebuilding the SavedModel after running tf.compat.v1.enable_resource_variables().\n",
      "WARNING:tensorflow:Unable to create a python object for variable <tf.Variable 'bert/embeddings/position_embeddings:0' shape=(4096, 768) dtype=float32_ref> because it is a reference variable. It may not be visible to training APIs. If this is a problem, consider rebuilding the SavedModel after running tf.compat.v1.enable_resource_variables().\n",
      "WARNING:tensorflow:Unable to create a python object for variable <tf.Variable 'bert/encoder/LayerNorm/beta:0' shape=(768,) dtype=float32_ref> because it is a reference variable. It may not be visible to training APIs. If this is a problem, consider rebuilding the SavedModel after running tf.compat.v1.enable_resource_variables().\n",
      "WARNING:tensorflow:Unable to create a python object for variable <tf.Variable 'bert/encoder/LayerNorm/gamma:0' shape=(768,) dtype=float32_ref> because it is a reference variable. It may not be visible to training APIs. If this is a problem, consider rebuilding the SavedModel after running tf.compat.v1.enable_resource_variables().\n",
      "WARNING:tensorflow:Unable to create a python object for variable <tf.Variable 'bert/encoder/layer_0/attention/self/query/kernel:0' shape=(768, 768) dtype=float32_ref> because it is a reference variable. It may not be visible to training APIs. If this is a problem, consider rebuilding the SavedModel after running tf.compat.v1.enable_resource_variables().\n",
      "WARNING:tensorflow:Unable to create a python object for variable <tf.Variable 'bert/embeddings/word_embeddings:0' shape=(50358, 768) dtype=float32_ref> because it is a reference variable. It may not be visible to training APIs. If this is a problem, consider rebuilding the SavedModel after running tf.compat.v1.enable_resource_variables().\n",
      "WARNING:tensorflow:Unable to create a python object for variable <tf.Variable 'bert/embeddings/position_embeddings:0' shape=(4096, 768) dtype=float32_ref> because it is a reference variable. It may not be visible to training APIs. If this is a problem, consider rebuilding the SavedModel after running tf.compat.v1.enable_resource_variables().\n",
      "WARNING:tensorflow:Unable to create a python object for variable <tf.Variable 'bert/encoder/LayerNorm/beta:0' shape=(768,) dtype=float32_ref> because it is a reference variable. It may not be visible to training APIs. If this is a problem, consider rebuilding the SavedModel after running tf.compat.v1.enable_resource_variables().\n",
      "WARNING:tensorflow:Unable to create a python object for variable <tf.Variable 'bert/encoder/LayerNorm/gamma:0' shape=(768,) dtype=float32_ref> because it is a reference variable. It may not be visible to training APIs. If this is a problem, consider rebuilding the SavedModel after running tf.compat.v1.enable_resource_variables().\n",
      "WARNING:tensorflow:Unable to create a python object for variable <tf.Variable 'bert/encoder/layer_0/attention/self/query/kernel:0' shape=(768, 768) dtype=float32_ref> because it is a reference variable. It may not be visible to training APIs. If this is a problem, consider rebuilding the SavedModel after running tf.compat.v1.enable_resource_variables().\n",
      "WARNING:tensorflow:Unable to create a python object for variable <tf.Variable 'bert/embeddings/word_embeddings:0' shape=(50358, 768) dtype=float32_ref> because it is a reference variable. It may not be visible to training APIs. If this is a problem, consider rebuilding the SavedModel after running tf.compat.v1.enable_resource_variables().\n",
      "WARNING:tensorflow:Unable to create a python object for variable <tf.Variable 'bert/embeddings/position_embeddings:0' shape=(4096, 768) dtype=float32_ref> because it is a reference variable. It may not be visible to training APIs. If this is a problem, consider rebuilding the SavedModel after running tf.compat.v1.enable_resource_variables().\n",
      "WARNING:tensorflow:Unable to create a python object for variable <tf.Variable 'bert/encoder/LayerNorm/beta:0' shape=(768,) dtype=float32_ref> because it is a reference variable. It may not be visible to training APIs. If this is a problem, consider rebuilding the SavedModel after running tf.compat.v1.enable_resource_variables().\n",
      "WARNING:tensorflow:Unable to create a python object for variable <tf.Variable 'bert/encoder/LayerNorm/gamma:0' shape=(768,) dtype=float32_ref> because it is a reference variable. It may not be visible to training APIs. If this is a problem, consider rebuilding the SavedModel after running tf.compat.v1.enable_resource_variables().\n",
      "WARNING:tensorflow:Unable to create a python object for variable <tf.Variable 'bert/encoder/layer_0/attention/self/query/kernel:0' shape=(768, 768) dtype=float32_ref> because it is a reference variable. It may not be visible to training APIs. If this is a problem, consider rebuilding the SavedModel after running tf.compat.v1.enable_resource_variables().\n",
      "WARNING:tensorflow:Unable to create a python object for variable <tf.Variable 'bert/embeddings/word_embeddings:0' shape=(50358, 768) dtype=float32_ref> because it is a reference variable. It may not be visible to training APIs. If this is a problem, consider rebuilding the SavedModel after running tf.compat.v1.enable_resource_variables().\n",
      "WARNING:tensorflow:Unable to create a python object for variable <tf.Variable 'bert/embeddings/position_embeddings:0' shape=(4096, 768) dtype=float32_ref> because it is a reference variable. It may not be visible to training APIs. If this is a problem, consider rebuilding the SavedModel after running tf.compat.v1.enable_resource_variables().\n",
      "WARNING:tensorflow:Unable to create a python object for variable <tf.Variable 'bert/encoder/LayerNorm/beta:0' shape=(768,) dtype=float32_ref> because it is a reference variable. It may not be visible to training APIs. If this is a problem, consider rebuilding the SavedModel after running tf.compat.v1.enable_resource_variables().\n",
      "WARNING:tensorflow:Unable to create a python object for variable <tf.Variable 'bert/encoder/LayerNorm/gamma:0' shape=(768,) dtype=float32_ref> because it is a reference variable. It may not be visible to training APIs. If this is a problem, consider rebuilding the SavedModel after running tf.compat.v1.enable_resource_variables().\n",
      "WARNING:tensorflow:Unable to create a python object for variable <tf.Variable 'bert/encoder/layer_0/attention/self/query/kernel:0' shape=(768, 768) dtype=float32_ref> because it is a reference variable. It may not be visible to training APIs. If this is a problem, consider rebuilding the SavedModel after running tf.compat.v1.enable_resource_variables().\n"
     ]
    },
    {
     "name": "stderr",
     "output_type": "stream",
     "text": [
      "100%|██████████| 110/110 [48:45:34<00:00, 1595.77s/it]  \n"
     ]
    }
   ],
   "source": [
    "rouges = assess_bigbir(result,size_of_sampling = 110, seed = 33, warning = False)"
   ]
  },
  {
   "cell_type": "code",
   "execution_count": 23,
   "id": "6639dbb3",
   "metadata": {},
   "outputs": [
    {
     "name": "stderr",
     "output_type": "stream",
     "text": [
      "Some weights of the model checkpoint at xlnet-base-cased were not used when initializing XLNetModel: ['lm_loss.weight', 'lm_loss.bias']\n",
      "- This IS expected if you are initializing XLNetModel from the checkpoint of a model trained on another task or with another architecture (e.g. initializing a BertForSequenceClassification model from a BertForPreTraining model).\n",
      "- This IS NOT expected if you are initializing XLNetModel from the checkpoint of a model that you expect to be exactly identical (initializing a BertForSequenceClassification model from a BertForSequenceClassification model).\n"
     ]
    }
   ],
   "source": [
    "transformer = assess_transf(result, size_of_sampling = 110, seed = 33)"
   ]
  },
  {
   "cell_type": "code",
   "execution_count": 24,
   "id": "16f9fb98",
   "metadata": {},
   "outputs": [],
   "source": [
    "rouges['block sparsity'] = 1\n",
    "transformer['block sparsity'] = 0"
   ]
  },
  {
   "cell_type": "code",
   "execution_count": 25,
   "id": "9128c74d",
   "metadata": {},
   "outputs": [],
   "source": [
    "pd.concat([rouges, transformer],axis=0).to_csv('bigbirvtrans')"
   ]
  },
  {
   "cell_type": "code",
   "execution_count": 26,
   "id": "558b138f",
   "metadata": {},
   "outputs": [
    {
     "data": {
      "text/html": [
       "<div>\n",
       "<style scoped>\n",
       "    .dataframe tbody tr th:only-of-type {\n",
       "        vertical-align: middle;\n",
       "    }\n",
       "\n",
       "    .dataframe tbody tr th {\n",
       "        vertical-align: top;\n",
       "    }\n",
       "\n",
       "    .dataframe thead th {\n",
       "        text-align: right;\n",
       "    }\n",
       "</style>\n",
       "<table border=\"1\" class=\"dataframe\">\n",
       "  <thead>\n",
       "    <tr style=\"text-align: right;\">\n",
       "      <th></th>\n",
       "      <th>article_id</th>\n",
       "      <th>article_text</th>\n",
       "      <th>abstract_text</th>\n",
       "      <th>abstract word counts</th>\n",
       "      <th>article word counts</th>\n",
       "      <th>predicted summary</th>\n",
       "      <th>predicted summary word counts</th>\n",
       "      <th>time in seconds</th>\n",
       "      <th>rouge1</th>\n",
       "      <th>rouge2</th>\n",
       "      <th>rougeL</th>\n",
       "      <th>block sparsity</th>\n",
       "    </tr>\n",
       "  </thead>\n",
       "  <tbody>\n",
       "    <tr>\n",
       "      <th>0</th>\n",
       "      <td>1106.0419</td>\n",
       "      <td>the dynamics of opinion formation in a society...</td>\n",
       "      <td>we present here the exact solution of an infin...</td>\n",
       "      <td>110</td>\n",
       "      <td>6240</td>\n",
       "      <td>we present the exact solution of the exact sol...</td>\n",
       "      <td>69</td>\n",
       "      <td>1548.404512</td>\n",
       "      <td>0.556962</td>\n",
       "      <td>0.435897</td>\n",
       "      <td>0.518987</td>\n",
       "      <td>1</td>\n",
       "    </tr>\n",
       "    <tr>\n",
       "      <th>1</th>\n",
       "      <td>cond-mat0203463</td>\n",
       "      <td>vehicular traffic on highways as well as in ci...</td>\n",
       "      <td>a two dimensional cellular automaton is introd...</td>\n",
       "      <td>106</td>\n",
       "      <td>6463</td>\n",
       "      <td>two dimensional cellular automaton is introduc...</td>\n",
       "      <td>69</td>\n",
       "      <td>1552.549365</td>\n",
       "      <td>0.862559</td>\n",
       "      <td>0.822967</td>\n",
       "      <td>0.853081</td>\n",
       "      <td>1</td>\n",
       "    </tr>\n",
       "    <tr>\n",
       "      <th>2</th>\n",
       "      <td>astro-ph0011497</td>\n",
       "      <td>studies of individual stars and resolved stell...</td>\n",
       "      <td>we have used an updated version of the empiric...</td>\n",
       "      <td>140</td>\n",
       "      <td>7220</td>\n",
       "      <td>we have used an empirically and semi - empiric...</td>\n",
       "      <td>69</td>\n",
       "      <td>1551.974925</td>\n",
       "      <td>0.589474</td>\n",
       "      <td>0.457447</td>\n",
       "      <td>0.536842</td>\n",
       "      <td>1</td>\n",
       "    </tr>\n",
       "    <tr>\n",
       "      <th>3</th>\n",
       "      <td>1211.1117</td>\n",
       "      <td>traditionally , gamma - ray bursts ( grbs ) ar...</td>\n",
       "      <td>traditionally gamma - ray bursts ( grbs ) are ...</td>\n",
       "      <td>240</td>\n",
       "      <td>5733</td>\n",
       "      <td>avaialble ( grb ) is a global gamma - ray burs...</td>\n",
       "      <td>69</td>\n",
       "      <td>1537.593251</td>\n",
       "      <td>0.383333</td>\n",
       "      <td>0.089385</td>\n",
       "      <td>0.266667</td>\n",
       "      <td>1</td>\n",
       "    </tr>\n",
       "    <tr>\n",
       "      <th>4</th>\n",
       "      <td>nlin0103014</td>\n",
       "      <td>the standard approach to description of spatia...</td>\n",
       "      <td>very narrow spatial bright solitons in ( 1 + 1...</td>\n",
       "      <td>116</td>\n",
       "      <td>4119</td>\n",
       "      <td>the solitons in ( 1 + 1)d and ( 2 + 1)d versio...</td>\n",
       "      <td>69</td>\n",
       "      <td>1543.431132</td>\n",
       "      <td>0.748858</td>\n",
       "      <td>0.672811</td>\n",
       "      <td>0.712329</td>\n",
       "      <td>1</td>\n",
       "    </tr>\n",
       "    <tr>\n",
       "      <th>...</th>\n",
       "      <td>...</td>\n",
       "      <td>...</td>\n",
       "      <td>...</td>\n",
       "      <td>...</td>\n",
       "      <td>...</td>\n",
       "      <td>...</td>\n",
       "      <td>...</td>\n",
       "      <td>...</td>\n",
       "      <td>...</td>\n",
       "      <td>...</td>\n",
       "      <td>...</td>\n",
       "      <td>...</td>\n",
       "    </tr>\n",
       "    <tr>\n",
       "      <th>105</th>\n",
       "      <td>astro-ph9906149</td>\n",
       "      <td>evolutionary population synthesis predictions ...</td>\n",
       "      <td>a self - consistent spectrophotometric modelli...</td>\n",
       "      <td>125</td>\n",
       "      <td>1799</td>\n",
       "      <td>1998 ) , and an instantanous bolometric correc...</td>\n",
       "      <td>35</td>\n",
       "      <td>0.868915</td>\n",
       "      <td>0.138889</td>\n",
       "      <td>0.014085</td>\n",
       "      <td>0.097222</td>\n",
       "      <td>0</td>\n",
       "    </tr>\n",
       "    <tr>\n",
       "      <th>106</th>\n",
       "      <td>quant-ph0201120</td>\n",
       "      <td>discrete orthogonal transforms and discrete un...</td>\n",
       "      <td>a quantum computer directly manipulates inform...</td>\n",
       "      <td>122</td>\n",
       "      <td>5648</td>\n",
       "      <td>for example , consider the circuit in figure [...</td>\n",
       "      <td>40</td>\n",
       "      <td>1.415362</td>\n",
       "      <td>0.172662</td>\n",
       "      <td>0.029197</td>\n",
       "      <td>0.143885</td>\n",
       "      <td>0</td>\n",
       "    </tr>\n",
       "    <tr>\n",
       "      <th>107</th>\n",
       "      <td>1601.01296</td>\n",
       "      <td>two - particle correlations in azimuthal angle...</td>\n",
       "      <td>two - particle pseudorapidity correlations are...</td>\n",
       "      <td>202</td>\n",
       "      <td>1760</td>\n",
       "      <td>what are their sizes and distribution in the t...</td>\n",
       "      <td>36</td>\n",
       "      <td>2.277386</td>\n",
       "      <td>0.164251</td>\n",
       "      <td>0.048780</td>\n",
       "      <td>0.135266</td>\n",
       "      <td>0</td>\n",
       "    </tr>\n",
       "    <tr>\n",
       "      <th>108</th>\n",
       "      <td>astro-ph0303393</td>\n",
       "      <td>the exciting evidence for evolution in distant...</td>\n",
       "      <td>radio continuum emission at 1.4 ghz was used t...</td>\n",
       "      <td>233</td>\n",
       "      <td>1896</td>\n",
       "      <td>using this sample, we ask the question : do an...</td>\n",
       "      <td>64</td>\n",
       "      <td>1.852807</td>\n",
       "      <td>0.251852</td>\n",
       "      <td>0.029851</td>\n",
       "      <td>0.140741</td>\n",
       "      <td>0</td>\n",
       "    </tr>\n",
       "    <tr>\n",
       "      <th>109</th>\n",
       "      <td>cond-mat0306622</td>\n",
       "      <td>recently there has been much interest in rando...</td>\n",
       "      <td>we consider the phenomenon of bose - einstein ...</td>\n",
       "      <td>102</td>\n",
       "      <td>2612</td>\n",
       "      <td>unlike bb , the chemical potential is introduc...</td>\n",
       "      <td>53</td>\n",
       "      <td>2.576147</td>\n",
       "      <td>0.218978</td>\n",
       "      <td>0.044444</td>\n",
       "      <td>0.131387</td>\n",
       "      <td>0</td>\n",
       "    </tr>\n",
       "  </tbody>\n",
       "</table>\n",
       "<p>220 rows × 12 columns</p>\n",
       "</div>"
      ],
      "text/plain": [
       "          article_id                                       article_text  \\\n",
       "0          1106.0419  the dynamics of opinion formation in a society...   \n",
       "1    cond-mat0203463  vehicular traffic on highways as well as in ci...   \n",
       "2    astro-ph0011497  studies of individual stars and resolved stell...   \n",
       "3          1211.1117  traditionally , gamma - ray bursts ( grbs ) ar...   \n",
       "4        nlin0103014  the standard approach to description of spatia...   \n",
       "..               ...                                                ...   \n",
       "105  astro-ph9906149  evolutionary population synthesis predictions ...   \n",
       "106  quant-ph0201120  discrete orthogonal transforms and discrete un...   \n",
       "107       1601.01296  two - particle correlations in azimuthal angle...   \n",
       "108  astro-ph0303393  the exciting evidence for evolution in distant...   \n",
       "109  cond-mat0306622  recently there has been much interest in rando...   \n",
       "\n",
       "                                         abstract_text  abstract word counts  \\\n",
       "0    we present here the exact solution of an infin...                   110   \n",
       "1    a two dimensional cellular automaton is introd...                   106   \n",
       "2    we have used an updated version of the empiric...                   140   \n",
       "3    traditionally gamma - ray bursts ( grbs ) are ...                   240   \n",
       "4    very narrow spatial bright solitons in ( 1 + 1...                   116   \n",
       "..                                                 ...                   ...   \n",
       "105  a self - consistent spectrophotometric modelli...                   125   \n",
       "106  a quantum computer directly manipulates inform...                   122   \n",
       "107  two - particle pseudorapidity correlations are...                   202   \n",
       "108  radio continuum emission at 1.4 ghz was used t...                   233   \n",
       "109  we consider the phenomenon of bose - einstein ...                   102   \n",
       "\n",
       "     article word counts                                  predicted summary  \\\n",
       "0                   6240  we present the exact solution of the exact sol...   \n",
       "1                   6463  two dimensional cellular automaton is introduc...   \n",
       "2                   7220  we have used an empirically and semi - empiric...   \n",
       "3                   5733  avaialble ( grb ) is a global gamma - ray burs...   \n",
       "4                   4119  the solitons in ( 1 + 1)d and ( 2 + 1)d versio...   \n",
       "..                   ...                                                ...   \n",
       "105                 1799  1998 ) , and an instantanous bolometric correc...   \n",
       "106                 5648  for example , consider the circuit in figure [...   \n",
       "107                 1760  what are their sizes and distribution in the t...   \n",
       "108                 1896  using this sample, we ask the question : do an...   \n",
       "109                 2612  unlike bb , the chemical potential is introduc...   \n",
       "\n",
       "     predicted summary word counts  time in seconds    rouge1    rouge2  \\\n",
       "0                               69      1548.404512  0.556962  0.435897   \n",
       "1                               69      1552.549365  0.862559  0.822967   \n",
       "2                               69      1551.974925  0.589474  0.457447   \n",
       "3                               69      1537.593251  0.383333  0.089385   \n",
       "4                               69      1543.431132  0.748858  0.672811   \n",
       "..                             ...              ...       ...       ...   \n",
       "105                             35         0.868915  0.138889  0.014085   \n",
       "106                             40         1.415362  0.172662  0.029197   \n",
       "107                             36         2.277386  0.164251  0.048780   \n",
       "108                             64         1.852807  0.251852  0.029851   \n",
       "109                             53         2.576147  0.218978  0.044444   \n",
       "\n",
       "       rougeL  block sparsity  \n",
       "0    0.518987               1  \n",
       "1    0.853081               1  \n",
       "2    0.536842               1  \n",
       "3    0.266667               1  \n",
       "4    0.712329               1  \n",
       "..        ...             ...  \n",
       "105  0.097222               0  \n",
       "106  0.143885               0  \n",
       "107  0.135266               0  \n",
       "108  0.140741               0  \n",
       "109  0.131387               0  \n",
       "\n",
       "[220 rows x 12 columns]"
      ]
     },
     "execution_count": 26,
     "metadata": {},
     "output_type": "execute_result"
    }
   ],
   "source": [
    "pd.concat([rouges, transformer],axis=0)"
   ]
  },
  {
   "cell_type": "markdown",
   "id": "09e120e2",
   "metadata": {},
   "source": [
    "<p style=\"color:#e8574d; font-size:20px; font-weight:bold; font-family:Helvetica\">Useful Reference<a id='cited'></a></p>"
   ]
  },
  {
   "cell_type": "markdown",
   "id": "2fff1593",
   "metadata": {},
   "source": [
    "- https://huggingface.co/blog/big-bird\n",
    "- https://www.tensorflow.org/datasets/catalog/scientific_papers\n",
    "- http://github.com/google-research/bigbird\n",
    "- https://proceedings.neurips.cc/paper/2017/file/3f5ee243547dee91fbd053c1c4a845aa-Paper.pdf"
   ]
  }
 ],
 "metadata": {
  "kernelspec": {
   "display_name": "Python 3",
   "language": "python",
   "name": "python3"
  },
  "language_info": {
   "codemirror_mode": {
    "name": "ipython",
    "version": 3
   },
   "file_extension": ".py",
   "mimetype": "text/x-python",
   "name": "python",
   "nbconvert_exporter": "python",
   "pygments_lexer": "ipython3",
   "version": "3.8.8"
  }
 },
 "nbformat": 4,
 "nbformat_minor": 5
}
